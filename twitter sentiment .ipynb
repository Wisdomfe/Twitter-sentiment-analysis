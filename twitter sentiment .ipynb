{
 "cells": [
  {
   "cell_type": "code",
   "execution_count": 1,
   "metadata": {},
   "outputs": [],
   "source": [
    "from textblob import TextBlob\n",
    "import sys\n",
    "import tweepy\n",
    "import matplotlib.pyplot as plt\n",
    "import pandas as pd\n",
    "import numpy as np\n",
    "import os\n",
    "import nltk\n",
    "import pycountry\n",
    "import re\n",
    "import string\n",
    "import nltk\n",
    "#nltk.download('vader_lexicon')\n",
    "\n",
    "from wordcloud import WordCloud, STOPWORDS\n",
    "from PIL import Image\n",
    "from nltk.sentiment.vader import SentimentIntensityAnalyzer\n",
    "from langdetect import detect\n",
    "from nltk.stem import SnowballStemmer\n",
    "from nltk.sentiment.vader import SentimentIntensityAnalyzer\n",
    "from sklearn.feature_extraction.text import CountVectorizer\n"
   ]
  },
  {
   "cell_type": "code",
   "execution_count": 2,
   "metadata": {},
   "outputs": [],
   "source": [
    "# Authentication\n",
    "consumerKey = \"________________________\"\n",
    "consumerSecret = \"________________________\"\n",
    "accessToken =\"________________________\"\n",
    "accessTokenSecret =\"________________________\"\n",
    "auth = tweepy.OAuthHandler(consumerKey, consumerSecret)\n",
    "auth.set_access_token(accessToken, accessTokenSecret)\n",
    "api = tweepy.API(auth)"
   ]
  },
  {
   "cell_type": "code",
   "execution_count": 3,
   "metadata": {},
   "outputs": [],
   "source": [
    "#Sentiment Analysis\n",
    "def percentage(part,whole):\n",
    " return 100 * float(part)/float(whole)\n",
    "keyword = \"Bitcoin\"\n",
    "noOfTweet = 1000\n",
    "tweets = tweepy.Cursor(api.search_tweets, q=keyword).items(noOfTweet)\n",
    "positive=0\n",
    "negative=0\n",
    "neutral=0\n",
    "polarity=0\n",
    "tweet_list = []\n",
    "neutral_list = []\n",
    "negative_list = []\n",
    "positive_list = []"
   ]
  },
  {
   "cell_type": "code",
   "execution_count": 4,
   "metadata": {},
   "outputs": [],
   "source": [
    "for tweet in tweets:\n",
    " \n",
    "    tweet_list.append(tweet.text)\n",
    "    analysis = TextBlob(tweet.text)\n",
    "    score = SentimentIntensityAnalyzer().polarity_scores(tweet.text)\n",
    "    neg = score['neg']\n",
    "    neu = score['neu']\n",
    "    pos = score['pos']\n",
    "    comp = score['compound']\n",
    "    polarity += analysis.sentiment.polarity\n",
    "    \n",
    "    if neg > pos:\n",
    "        negative_list.append(tweet.text)\n",
    "        negative+1    \n",
    "    elif pos > neg:\n",
    "        positive_list.append(tweet.text)\n",
    "        positive+1   \n",
    "    elif pos == neg:\n",
    "        neutral_list.append(tweet.text)\n",
    "        neutral+1     \n",
    "       "
   ]
  },
  {
   "cell_type": "code",
   "execution_count": 5,
   "metadata": {},
   "outputs": [],
   "source": [
    "positive = percentage(positive, noOfTweet)\n",
    "negative = percentage(negative, noOfTweet)\n",
    "neutral = percentage(neutral, noOfTweet)\n",
    "polarity = percentage(polarity, noOfTweet)\n",
    "positive = format(positive, '.1f')\n",
    "negative = format(negative, '.1f')\n",
    "neutral = format(neutral, '.1f')"
   ]
  },
  {
   "cell_type": "code",
   "execution_count": 6,
   "metadata": {},
   "outputs": [
    {
     "name": "stdout",
     "output_type": "stream",
     "text": [
      "total number: 1000\n",
      "positive number: 359\n",
      "negative number: 106\n",
      "neutral number: 535\n"
     ]
    }
   ],
   "source": [
    "#Number of Tweets (Total, Positive, Negative, Neutral)\n",
    "tweet_list = pd.DataFrame(tweet_list)\n",
    "neutral_list = pd.DataFrame(neutral_list)\n",
    "negative_list = pd.DataFrame(negative_list)\n",
    "positive_list = pd.DataFrame(positive_list)\n",
    "print(\"total number:\",len(tweet_list))\n",
    "print(\"positive number:\" ,len(positive_list))\n",
    "print(\"negative number:\" , len(negative_list))\n",
    "print(\"neutral number:\" ,len(neutral_list))\n",
    "pos_p=round(((len(positive_list)/len(tweet_list))*100),1)\n",
    "neg_p=round(((len(negative_list)/len(tweet_list))*100),1)\n",
    "neu_p=round(((len(neutral_list)/len(tweet_list))*100),1)"
   ]
  },
  {
   "cell_type": "code",
   "execution_count": 7,
   "metadata": {},
   "outputs": [
    {
     "data": {
      "image/png": "[encoded data removed]",
      "text/plain": [
       "<Figure size 432x288 with 1 Axes>"
      ]
     },
     "metadata": {},
     "output_type": "display_data"
    }
   ],
   "source": [
    "#Creating PieCart\n",
    "labels = ['Positive ['+str(pos_p)+'%]' , 'Neutral ['+str(neu_p)+'%]','Negative ['+str(neg_p)+'%]']\n",
    "sizes = [len(positive_list), len(neutral_list), len(negative_list)]\n",
    "colors = ['yellowgreen', 'blue','red']\n",
    "patches, texts = plt.pie(sizes,colors=colors, startangle=90)\n",
    "plt.style.use('default')\n",
    "plt.legend(labels)\n",
    "plt.title(\"Sentiment Analysis Result for= \"+keyword+\"\")\n",
    "plt.axis('equal')\n",
    "plt.show()"
   ]
  },
  {
   "cell_type": "code",
   "execution_count": 8,
   "metadata": {},
   "outputs": [],
   "source": [
    "#Cleaning Tweets\n",
    "tweet_list.drop_duplicates(inplace = True)"
   ]
  },
  {
   "cell_type": "code",
   "execution_count": 9,
   "metadata": {},
   "outputs": [
    {
     "data": {
      "text/html": [
       "<div>\n",
       "<style scoped>\n",
       "    .dataframe tbody tr th:only-of-type {\n",
       "        vertical-align: middle;\n",
       "    }\n",
       "\n",
       "    .dataframe tbody tr th {\n",
       "        vertical-align: top;\n",
       "    }\n",
       "\n",
       "    .dataframe thead th {\n",
       "        text-align: right;\n",
       "    }\n",
       "</style>\n",
       "<table border=\"1\" class=\"dataframe\">\n",
       "  <thead>\n",
       "    <tr style=\"text-align: right;\">\n",
       "      <th></th>\n",
       "      <th>0</th>\n",
       "      <th>text</th>\n",
       "    </tr>\n",
       "  </thead>\n",
       "  <tbody>\n",
       "    <tr>\n",
       "      <th>0</th>\n",
       "      <td>Playing politics pays. #Bitcoin fixes this.</td>\n",
       "      <td>. #                  .</td>\n",
       "    </tr>\n",
       "    <tr>\n",
       "      <th>1</th>\n",
       "      <td>@TheCryptoLark WETHIO X AFRICAN BLOCKCHAIN AND...</td>\n",
       "      <td>\\n\\n...</td>\n",
       "    </tr>\n",
       "    <tr>\n",
       "      <th>2</th>\n",
       "      <td>RT @stevedabitcoin: Slovakya’da #Bitcoin- #Blo...</td>\n",
       "      <td>’   #       - #           ğ         ü...</td>\n",
       "    </tr>\n",
       "    <tr>\n",
       "      <th>3</th>\n",
       "      <td>RT @artofbsv: Mystery Box.\\n\\nEvery purchase o...</td>\n",
       "      <td>.\\n\\n                             ...</td>\n",
       "    </tr>\n",
       "    <tr>\n",
       "      <th>4</th>\n",
       "      <td>Free #Bitcoin instantly. I have recover all my...</td>\n",
       "      <td>#                 .                      ...</td>\n",
       "    </tr>\n",
       "    <tr>\n",
       "      <th>5</th>\n",
       "      <td>RT @MMCrypto: #Bitcoin: it’s imminent. https:/...</td>\n",
       "      <td>#       :   ’          .      :// .  /</td>\n",
       "    </tr>\n",
       "    <tr>\n",
       "      <th>6</th>\n",
       "      <td>RT @AirdropDet: 🔍 Edain #Airdrop (New Round)\\n...</td>\n",
       "      <td>🔍       #        (         )\\n\\n💲      :     ...</td>\n",
       "    </tr>\n",
       "    <tr>\n",
       "      <th>7</th>\n",
       "      <td>RT @AirdropStario: 💧 SHIBA NFT Airdrop 💧\\n\\n🏆 ...</td>\n",
       "      <td>💧                   💧\\n\\n🏆     :          ➕  ...</td>\n",
       "    </tr>\n",
       "    <tr>\n",
       "      <th>9</th>\n",
       "      <td>RT @JoaoSpreadsLove: @lowcee89 @defichain We a...</td>\n",
       "      <td>🔒   ...</td>\n",
       "    </tr>\n",
       "    <tr>\n",
       "      <th>10</th>\n",
       "      <td>RT @BornToRaceNft: Modify and race your dream ...</td>\n",
       "      <td>.              ...</td>\n",
       "    </tr>\n",
       "  </tbody>\n",
       "</table>\n",
       "</div>"
      ],
      "text/plain": [
       "                                                    0  \\\n",
       "0         Playing politics pays. #Bitcoin fixes this.   \n",
       "1   @TheCryptoLark WETHIO X AFRICAN BLOCKCHAIN AND...   \n",
       "2   RT @stevedabitcoin: Slovakya’da #Bitcoin- #Blo...   \n",
       "3   RT @artofbsv: Mystery Box.\\n\\nEvery purchase o...   \n",
       "4   Free #Bitcoin instantly. I have recover all my...   \n",
       "5   RT @MMCrypto: #Bitcoin: it’s imminent. https:/...   \n",
       "6   RT @AirdropDet: 🔍 Edain #Airdrop (New Round)\\n...   \n",
       "7   RT @AirdropStario: 💧 SHIBA NFT Airdrop 💧\\n\\n🏆 ...   \n",
       "9   RT @JoaoSpreadsLove: @lowcee89 @defichain We a...   \n",
       "10  RT @BornToRaceNft: Modify and race your dream ...   \n",
       "\n",
       "                                                 text  \n",
       "0                              . #                  .  \n",
       "1                                             \\n\\n...  \n",
       "2            ’   #       - #           ğ         ü...  \n",
       "3               .\\n\\n                             ...  \n",
       "4        #                 .                      ...  \n",
       "5    #       :   ’          .      :// .  /            \n",
       "6    🔍       #        (         )\\n\\n💲      :     ...  \n",
       "7    💧                   💧\\n\\n🏆     :          ➕  ...  \n",
       "9                                             🔒   ...  \n",
       "10                                 .              ...  "
      ]
     },
     "execution_count": 9,
     "metadata": {},
     "output_type": "execute_result"
    }
   ],
   "source": [
    "#Cleaning Text (RT, Punctuation etc)\n",
    "#Creating new dataframe and new features\n",
    "tw_list = pd.DataFrame(tweet_list)\n",
    "tw_list[\"text\"] = tw_list[0]\n",
    "#Removing RT, Punctuation etc\n",
    "remove_rt = lambda x: re.sub('RT @\\w+: ',\" \",x)\n",
    "rt = lambda x: re.sub(\"(@[A-Za-z0–9]+)|([0-9A-Za-z \\t])|(\\w+:\\/\\/\\S+)\",\" \",x)\n",
    "tw_list[\"text\"] = tw_list.text.map(remove_rt).map(rt)\n",
    "tw_list[\"text\"] = tw_list.text.str.lower()\n",
    "tw_list.head(10)"
   ]
  },
  {
   "cell_type": "code",
   "execution_count": 1,
   "metadata": {},
   "outputs": [
    {
     "name": "stdout",
     "output_type": "stream",
     "text": [
      "ENJOY\n"
     ]
    }
   ],
   "source": [
    "print(\"ENJOY\")"
   ]
  },
  {
   "cell_type": "code",
   "execution_count": null,
   "metadata": {},
   "outputs": [],
   "source": []
  },
  {
   "cell_type": "code",
   "execution_count": null,
   "metadata": {},
   "outputs": [],
   "source": []
  },
  {
   "cell_type": "code",
   "execution_count": null,
   "metadata": {},
   "outputs": [],
   "source": []
  }
 ],
 "metadata": {
  "kernelspec": {
   "display_name": "Python 3",
   "language": "python",
   "name": "python3"
  },
  "language_info": {
   "codemirror_mode": {
    "name": "ipython",
    "version": 3
   },
   "file_extension": ".py",
   "mimetype": "text/x-python",
   "name": "python",
   "nbconvert_exporter": "python",
   "pygments_lexer": "ipython3",
   "version": "3.8.5"
  }
 },
 "nbformat": 4,
 "nbformat_minor": 4
}
